{
  "cells": [
    {
      "cell_type": "code",
      "execution_count": null,
      "outputs": [],
      "source": "import os\nimport numpy as np\nimport pandas as pd\nfrom datetime import date\n\nfrom sklearn.model_selection import KFold, train_test_split, StratifiedKFold, cross_val_score, GridSearchCV\nfrom sklearn.pipeline import Pipeline\nfrom sklearn.linear_model import SGDClassifier, LogisticRegression\nfrom sklearn.preprocessing import StandardScaler\nfrom sklearn.metrics import log_loss, roc_auc_score, auc, roc_curve\nfrom sklearn.preprocessing import MinMaxScaler\n\nDATA_ROOT \u003d \"./input/\"\n\n",
      "metadata": {
        "pycharm": {
          "metadata": false,
          "name": "#%%\n",
          "is_executing": true
        }
      }
    },
    {
      "cell_type": "code",
      "execution_count": null,
      "outputs": [],
      "source": "dfoff \u003d pd.read_csv(os.path.join(DATA_ROOT,\u0027train_offline.csv\u0027))\ndftest \u003d pd.read_csv(os.path.join(DATA_ROOT,\u0027test_offline.csv\u0027))\ndftest \u003d dftest[~dftest.Coupon_id.isna()]\ndftest.reset_index(drop\u003dTrue, inplace\u003dTrue)\nprint(dfoff.shape)\nprint(dftest.shape)\ndfoff.head(20)\n",
      "metadata": {
        "pycharm": {
          "metadata": false,
          "name": "#%%\n",
          "is_executing": true
        }
      }
    },
    {
      "cell_type": "code",
      "execution_count": null,
      "outputs": [],
      "source": "## Creat target label \n\"\"\"\nAccording to the definition, \n1) buy with coupon within (include) 15 days \u003d\u003d\u003e 1\n2) buy with coupon but out of 15 days \u003d\u003d\u003e 0\n3) buy without coupon \u003d\u003d\u003e -1 (we don\u0027t care)\n\"\"\"\ndef label(row):\n    if np.isnan(row[\u0027Date_received\u0027]):\n        return -1\n    if not np.isnan(row[\u0027Date\u0027]):\n        td \u003d pd.to_datetime(row[\u0027Date\u0027], format\u003d\u0027%Y%m%d\u0027) -  pd.to_datetime(row[\u0027Date_received\u0027], format\u003d\u0027%Y%m%d\u0027)\n        if td \u003c\u003d pd.Timedelta(15, \u0027D\u0027):\n            return 1\n    return 0\n\ndfoff[\"label\"] \u003d dfoff.apply(label, axis\u003d1)\ndfoff[\"label\"].value_counts()\n\n",
      "metadata": {
        "pycharm": {
          "metadata": false,
          "name": "#%%\n",
          "is_executing": true
        }
      }
    },
    {
      "cell_type": "code",
      "execution_count": null,
      "outputs": [],
      "source": "# Generate features - weekday acquired coupon\ndef getWeekday(row):\n    if (np.isnan(row)) or (row\u003d\u003d-1):\n        return row\n    else:\n        return pd.to_datetime(row, format \u003d \"%Y%m%d\").dayofweek+1 # add one to make it from 0~6 -\u003e 1~7\n\ndfoff[\u0027weekday\u0027] \u003d dfoff[\u0027Date_received\u0027].apply(getWeekday)\ndftest[\u0027weekday\u0027] \u003d dftest[\u0027Date_received\u0027].apply(getWeekday)\n\n# weekday_type (weekend \u003d 1)\ndfoff[\u0027weekday_type\u0027] \u003d dfoff[\u0027weekday\u0027].astype(\u0027str\u0027).apply(lambda x : 1 if x in [6,7] else 0 ) # apply to trainset\ndftest[\u0027weekday_type\u0027] \u003d dftest[\u0027weekday\u0027].astype(\u0027str\u0027).apply(lambda x : 1 if x in [6,7] else 0 ) # apply to testset\n",
      "metadata": {
        "pycharm": {
          "metadata": false,
          "name": "#%%\n",
          "is_executing": true
        }
      }
    },
    {
      "cell_type": "code",
      "execution_count": null,
      "outputs": [],
      "source": "weekdaycols \u003d [\u0027weekday_\u0027 + str(i) for i in range(1,8)]\nprint(weekdaycols)\n\ntmpdf \u003d pd.get_dummies(dfoff[\u0027weekday\u0027].replace(-1, np.nan))\ntmpdf.columns \u003d weekdaycols\ndfoff[weekdaycols] \u003d tmpdf\n\ntmpdf \u003d pd.get_dummies(dftest[\u0027weekday\u0027].replace(-1, np.nan))\ntmpdf.columns \u003d weekdaycols\ndftest[weekdaycols] \u003d tmpdf\n",
      "metadata": {
        "pycharm": {
          "metadata": false,
          "name": "#%%\n",
          "is_executing": true
        }
      }
    },
    {
      "cell_type": "code",
      "execution_count": null,
      "outputs": [],
      "source": "# Generate features - coupon discount and distance\ndef getDiscountType(row):\n    if row \u003d\u003d \u0027null\u0027:\n        return \u0027null\u0027\n    elif \u0027:\u0027 in row:\n        return 1\n    else:\n        return 0\n\ndef convertRate(row):\n    \"\"\"Convert discount to rate\"\"\"\n    if row \u003d\u003d \u0027null\u0027:\n        return 1.0\n    elif \u0027:\u0027 in row:\n        rows \u003d row.split(\u0027:\u0027)\n        return 1.0 - float(rows[1])/float(rows[0])\n    else:\n        return float(row)\n    \ndef getDiscountMan(row):\n    if \u0027:\u0027 in row:\n        rows \u003d row.split(\u0027:\u0027)\n        return int(rows[0])\n    else:\n        return 0\n\ndef getDiscountJian(row):\n    if \u0027:\u0027 in row:\n        rows \u003d row.split(\u0027:\u0027)\n        return int(rows[1])\n    else:\n        return 0\n    \ndef processData(df):\n\n    # convert discunt_rate\n    df[\u0027discount_rate\u0027] \u003d df[\u0027Discount_rate\u0027].astype(\u0027str\u0027).apply(convertRate)\n    df[\u0027discount_man\u0027] \u003d df[\u0027Discount_rate\u0027].astype(\u0027str\u0027).apply(getDiscountMan)\n    df[\u0027discount_jian\u0027] \u003d df[\u0027Discount_rate\u0027].astype(\u0027str\u0027).apply(getDiscountJian)\n    df[\u0027discount_type\u0027] \u003d df[\u0027Discount_rate\u0027].astype(\u0027str\u0027).apply(getDiscountType)\n    \n    # convert distance\n    df.loc[df.Distance.isna(), \"Distance\"] \u003d 99\n    return df\n\ndfoff \u003d processData(dfoff)\ndftest \u003d processData(dftest)\n",
      "metadata": {
        "pycharm": {
          "metadata": false,
          "name": "#%%\n",
          "is_executing": true
        }
      }
    },
    {
      "cell_type": "code",
      "execution_count": null,
      "outputs": [],
      "source": "## Naive model\ndef split_train_valid(row, date_cut\u003d\"20160416\"):\n    is_train \u003d True if pd.to_datetime(row, format\u003d\"%Y%m%d\") \u003c pd.to_datetime(date_cut, format\u003d\"%Y%m%d\") else False\n    return is_train\n    \ndf \u003d dfoff[dfoff[\u0027label\u0027] !\u003d -1].copy()\ndf[\"is_train\"] \u003d df[\"Date_received\"].apply(split_train_valid)\ntrain \u003d df[df[\"is_train\"]]\nvalid \u003d df[~df[\"is_train\"]]\ntrain.reset_index(drop\u003dTrue, inplace\u003dTrue)\nvalid.reset_index(drop\u003dTrue, inplace\u003dTrue)\nprint(\"Train size: {}, #positive: {}\".format(len(train), train[\"label\"].sum()))\nprint(\"Valid size: {}, #positive: {}\".format(len(valid), valid[\"label\"].sum()))\n",
      "metadata": {
        "pycharm": {
          "metadata": false,
          "name": "#%%\n",
          "is_executing": true
        }
      }
    },
    {
      "cell_type": "code",
      "execution_count": null,
      "outputs": [],
      "source": "original_feature \u003d [\u0027discount_rate\u0027,\n                    \u0027discount_type\u0027,\n                    \u0027discount_man\u0027, \n                    \u0027discount_jian\u0027,\n                    \u0027Distance\u0027, \n                    \u0027weekday\u0027, \n                    \u0027weekday_type\u0027] + weekdaycols\nprint(len(original_feature),original_feature)\n\n\n",
      "metadata": {
        "pycharm": {
          "metadata": false,
          "name": "#%%\n",
          "is_executing": true
        }
      }
    },
    {
      "cell_type": "code",
      "execution_count": null,
      "outputs": [],
      "source": "predictors \u003d original_feature\nprint(predictors)\n\ndef check_model(data, predictors):\n    \n    classifier \u003d lambda: SGDClassifier(\n        loss\u003d\u0027log\u0027, \n        penalty\u003d\u0027elasticnet\u0027, \n        fit_intercept\u003dTrue, \n        max_iter\u003d100, \n        shuffle\u003dTrue, \n        n_jobs\u003d1,\n        class_weight\u003dNone)\n\n    model \u003d Pipeline(steps\u003d[\n        (\u0027ss\u0027, StandardScaler()),\n        (\u0027en\u0027, classifier())\n    ])\n\n    parameters \u003d {\n        \u0027en__alpha\u0027: [ 0.001, 0.01, 0.1],\n        \u0027en__l1_ratio\u0027: [ 0.001, 0.01, 0.1]\n    }\n    \n    folder \u003d StratifiedKFold(n_splits\u003d3, shuffle\u003dTrue)\n    \n    grid_search \u003d GridSearchCV(\n        model, \n        parameters, \n        cv\u003dfolder, \n        n_jobs\u003d-1, \n        verbose\u003d1)\n    grid_search \u003d grid_search.fit(data[predictors], \n                                  data[\u0027label\u0027])\n    \n    return grid_search\n\n",
      "metadata": {
        "pycharm": {
          "metadata": false,
          "name": "#%%\n",
          "is_executing": true
        }
      }
    },
    {
      "cell_type": "code",
      "execution_count": null,
      "outputs": [],
      "source": "model \u003d check_model(train, predictors)\n",
      "metadata": {
        "pycharm": {
          "metadata": false,
          "name": "#%%\n",
          "is_executing": true
        }
      }
    },
    {
      "cell_type": "code",
      "execution_count": null,
      "outputs": [],
      "source": "y_valid_pred \u003d model.predict_proba(valid[predictors])\nvalid1 \u003d valid.copy()\nvalid1[\u0027pred_prob\u0027] \u003d y_valid_pred[:, 1]\n\n",
      "metadata": {
        "pycharm": {
          "metadata": false,
          "name": "#%%\n",
          "is_executing": true
        }
      }
    },
    {
      "cell_type": "code",
      "execution_count": null,
      "outputs": [],
      "source": "from sklearn.metrics import roc_auc_score, accuracy_score\nauc_score \u003d roc_auc_score(y_true\u003dvalid.label, y_score\u003dy_valid_pred[:,1])\nacc \u003d accuracy_score(y_true\u003dvalid.label, y_pred\u003dy_valid_pred.argmax(axis\u003d1))\nprint(\"Validation AUC: {:.3f}, Accuracy: {:.3f}\".format(auc_score, acc))\n\n",
      "metadata": {
        "pycharm": {
          "metadata": false,
          "name": "#%%\n",
          "is_executing": true
        }
      }
    },
    {
      "cell_type": "code",
      "execution_count": null,
      "outputs": [],
      "source": "targetset \u003d dftest.copy()\nprint(targetset.shape)\ntargetset \u003d targetset[~targetset.Coupon_id.isna()]\ntargetset.reset_index(drop\u003dTrue, inplace\u003dTrue)\ntestset \u003d targetset[predictors].copy()\n\ny_test_pred \u003d model.predict_proba(testset[predictors])\ntest1 \u003d testset.copy()\ntest1[\u0027pred_prob\u0027] \u003d y_test_pred[:, 1]\nprint(test1.shape)\n\n",
      "metadata": {
        "pycharm": {
          "metadata": false,
          "name": "#%%\n",
          "is_executing": true
        }
      }
    },
    {
      "cell_type": "code",
      "execution_count": null,
      "outputs": [],
      "source": "output \u003d pd.concat((targetset[[\"User_id\", \"Coupon_id\", \"Date_received\"]], test1[\"pred_prob\"]), axis\u003d1)\nprint(output.shape)\n\noutput.loc[:, \"User_id\"] \u003d output[\"User_id\"].apply(lambda x:str(int(x)))\noutput.loc[:, \"Coupon_id\"] \u003d output[\"Coupon_id\"].apply(lambda x:str(int(x)))\noutput.loc[:, \"Date_received\"] \u003d output[\"Date_received\"].apply(lambda x:str(int(x)))\noutput[\"uid\"] \u003d output[[\"User_id\", \"Coupon_id\", \"Date_received\"]].apply(lambda x: \u0027_\u0027.join(x.values), axis\u003d1)\noutput.reset_index(drop\u003dTrue, inplace\u003dTrue)\n\n",
      "metadata": {
        "pycharm": {
          "metadata": false,
          "name": "#%%\n",
          "is_executing": true
        }
      }
    },
    {
      "cell_type": "code",
      "execution_count": null,
      "outputs": [],
      "source": "out \u003d output.groupby(\"uid\", as_index\u003dFalse).mean()\nout \u003d out[[\"uid\", \"pred_prob\"]]\nout.columns \u003d [\"uid\", \"label\"]\n# out.to_csv(\"baseline_example.csv\", header\u003d[\"uid\", \"label\"], index\u003dFalse) # submission format\nout.head()\n\n\n",
      "metadata": {
        "pycharm": {
          "metadata": false,
          "name": "#%%\n",
          "is_executing": true
        }
      }
    }
  ],
  "metadata": {
    "language_info": {
      "codemirror_mode": {
        "name": "ipython",
        "version": 2
      },
      "file_extension": ".py",
      "mimetype": "text/x-python",
      "name": "python",
      "nbconvert_exporter": "python",
      "pygments_lexer": "ipython2",
      "version": "2.7.6"
    },
    "kernelspec": {
      "name": "python3",
      "language": "python",
      "display_name": "Python 3"
    },
    "stem_cell": {
      "cell_type": "raw",
      "source": "",
      "metadata": {
        "pycharm": {
          "metadata": false
        }
      }
    }
  },
  "nbformat": 4,
  "nbformat_minor": 0
}