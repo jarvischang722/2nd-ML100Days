{
  "cells": [
    {
      "cell_type": "code",
      "execution_count": 34,
      "outputs": [],
      "source": "import os\nimport numpy as np\nimport pandas as pd\nfrom datetime import date\n\nfrom sklearn.model_selection import KFold, train_test_split, StratifiedKFold, cross_val_score, GridSearchCV\nfrom sklearn.pipeline import Pipeline\nfrom sklearn.linear_model import SGDClassifier, LogisticRegression\nfrom sklearn.preprocessing import StandardScaler\nfrom sklearn.metrics import log_loss, roc_auc_score, auc, roc_curve\nfrom sklearn.preprocessing import MinMaxScaler\n\nDATA_ROOT \u003d \"./input/\"\n\n",
      "metadata": {
        "pycharm": {
          "metadata": false,
          "name": "#%%\n",
          "is_executing": false
        }
      }
    },
    {
      "cell_type": "code",
      "execution_count": 35,
      "outputs": [
        {
          "name": "stdout",
          "text": [
            "(1160742, 7)\n(306313, 6)\n"
          ],
          "output_type": "stream"
        },
        {
          "data": {
            "text/plain": "    User_id  Merchant_id  Coupon_id Discount_rate  Distance  Date_received  \\\n0   1439408         2632        NaN           NaN       0.0            NaN   \n1   1439408         2632     8591.0          20:1       0.0     20160217.0   \n2   1439408         2632     1078.0          20:1       0.0     20160319.0   \n3   1832624         3381     7610.0        200:20       0.0     20160429.0   \n4   2029232         3381    11951.0        200:20       1.0     20160129.0   \n5   2223968         3381     9776.0          10:5       2.0     20160129.0   \n6     73611         2099    12034.0        100:10       NaN     20160207.0   \n7    163606         1569     5054.0        200:30      10.0     20160421.0   \n8   3273056         4833     7802.0        200:20      10.0     20160130.0   \n9     94107         3381     7610.0        200:20       2.0     20160412.0   \n10   253750         8390        NaN           NaN       0.0            NaN   \n11   253750         8390     7531.0          20:5       0.0     20160327.0   \n12   376492         1041    13490.0          30:5       2.0     20160127.0   \n13  1964720         7884        NaN           NaN      10.0            NaN   \n14  1964720         7884     6704.0          20:1      10.0     20160215.0   \n15  1113008         1041        NaN           NaN       2.0            NaN   \n16  1113008         1041    11197.0          30:5       2.0     20160114.0   \n17  2881376         5341      111.0          30:5       1.0     20160207.0   \n18  2881376         8390     7531.0          20:5       0.0     20160321.0   \n19  2881376         5341      111.0          30:5       1.0     20160207.0   \n\n          Date  \n0   20160217.0  \n1          NaN  \n2          NaN  \n3          NaN  \n4          NaN  \n5          NaN  \n6          NaN  \n7          NaN  \n8          NaN  \n9          NaN  \n10  20160327.0  \n11         NaN  \n12         NaN  \n13  20160115.0  \n14         NaN  \n15  20160114.0  \n16         NaN  \n17         NaN  \n18  20160329.0  \n19         NaN  ",
            "text/html": "\u003cdiv\u003e\n\u003cstyle scoped\u003e\n    .dataframe tbody tr th:only-of-type {\n        vertical-align: middle;\n    }\n\n    .dataframe tbody tr th {\n        vertical-align: top;\n    }\n\n    .dataframe thead th {\n        text-align: right;\n    }\n\u003c/style\u003e\n\u003ctable border\u003d\"1\" class\u003d\"dataframe\"\u003e\n  \u003cthead\u003e\n    \u003ctr style\u003d\"text-align: right;\"\u003e\n      \u003cth\u003e\u003c/th\u003e\n      \u003cth\u003eUser_id\u003c/th\u003e\n      \u003cth\u003eMerchant_id\u003c/th\u003e\n      \u003cth\u003eCoupon_id\u003c/th\u003e\n      \u003cth\u003eDiscount_rate\u003c/th\u003e\n      \u003cth\u003eDistance\u003c/th\u003e\n      \u003cth\u003eDate_received\u003c/th\u003e\n      \u003cth\u003eDate\u003c/th\u003e\n    \u003c/tr\u003e\n  \u003c/thead\u003e\n  \u003ctbody\u003e\n    \u003ctr\u003e\n      \u003cth\u003e0\u003c/th\u003e\n      \u003ctd\u003e1439408\u003c/td\u003e\n      \u003ctd\u003e2632\u003c/td\u003e\n      \u003ctd\u003eNaN\u003c/td\u003e\n      \u003ctd\u003eNaN\u003c/td\u003e\n      \u003ctd\u003e0.0\u003c/td\u003e\n      \u003ctd\u003eNaN\u003c/td\u003e\n      \u003ctd\u003e20160217.0\u003c/td\u003e\n    \u003c/tr\u003e\n    \u003ctr\u003e\n      \u003cth\u003e1\u003c/th\u003e\n      \u003ctd\u003e1439408\u003c/td\u003e\n      \u003ctd\u003e2632\u003c/td\u003e\n      \u003ctd\u003e8591.0\u003c/td\u003e\n      \u003ctd\u003e20:1\u003c/td\u003e\n      \u003ctd\u003e0.0\u003c/td\u003e\n      \u003ctd\u003e20160217.0\u003c/td\u003e\n      \u003ctd\u003eNaN\u003c/td\u003e\n    \u003c/tr\u003e\n    \u003ctr\u003e\n      \u003cth\u003e2\u003c/th\u003e\n      \u003ctd\u003e1439408\u003c/td\u003e\n      \u003ctd\u003e2632\u003c/td\u003e\n      \u003ctd\u003e1078.0\u003c/td\u003e\n      \u003ctd\u003e20:1\u003c/td\u003e\n      \u003ctd\u003e0.0\u003c/td\u003e\n      \u003ctd\u003e20160319.0\u003c/td\u003e\n      \u003ctd\u003eNaN\u003c/td\u003e\n    \u003c/tr\u003e\n    \u003ctr\u003e\n      \u003cth\u003e3\u003c/th\u003e\n      \u003ctd\u003e1832624\u003c/td\u003e\n      \u003ctd\u003e3381\u003c/td\u003e\n      \u003ctd\u003e7610.0\u003c/td\u003e\n      \u003ctd\u003e200:20\u003c/td\u003e\n      \u003ctd\u003e0.0\u003c/td\u003e\n      \u003ctd\u003e20160429.0\u003c/td\u003e\n      \u003ctd\u003eNaN\u003c/td\u003e\n    \u003c/tr\u003e\n    \u003ctr\u003e\n      \u003cth\u003e4\u003c/th\u003e\n      \u003ctd\u003e2029232\u003c/td\u003e\n      \u003ctd\u003e3381\u003c/td\u003e\n      \u003ctd\u003e11951.0\u003c/td\u003e\n      \u003ctd\u003e200:20\u003c/td\u003e\n      \u003ctd\u003e1.0\u003c/td\u003e\n      \u003ctd\u003e20160129.0\u003c/td\u003e\n      \u003ctd\u003eNaN\u003c/td\u003e\n    \u003c/tr\u003e\n    \u003ctr\u003e\n      \u003cth\u003e5\u003c/th\u003e\n      \u003ctd\u003e2223968\u003c/td\u003e\n      \u003ctd\u003e3381\u003c/td\u003e\n      \u003ctd\u003e9776.0\u003c/td\u003e\n      \u003ctd\u003e10:5\u003c/td\u003e\n      \u003ctd\u003e2.0\u003c/td\u003e\n      \u003ctd\u003e20160129.0\u003c/td\u003e\n      \u003ctd\u003eNaN\u003c/td\u003e\n    \u003c/tr\u003e\n    \u003ctr\u003e\n      \u003cth\u003e6\u003c/th\u003e\n      \u003ctd\u003e73611\u003c/td\u003e\n      \u003ctd\u003e2099\u003c/td\u003e\n      \u003ctd\u003e12034.0\u003c/td\u003e\n      \u003ctd\u003e100:10\u003c/td\u003e\n      \u003ctd\u003eNaN\u003c/td\u003e\n      \u003ctd\u003e20160207.0\u003c/td\u003e\n      \u003ctd\u003eNaN\u003c/td\u003e\n    \u003c/tr\u003e\n    \u003ctr\u003e\n      \u003cth\u003e7\u003c/th\u003e\n      \u003ctd\u003e163606\u003c/td\u003e\n      \u003ctd\u003e1569\u003c/td\u003e\n      \u003ctd\u003e5054.0\u003c/td\u003e\n      \u003ctd\u003e200:30\u003c/td\u003e\n      \u003ctd\u003e10.0\u003c/td\u003e\n      \u003ctd\u003e20160421.0\u003c/td\u003e\n      \u003ctd\u003eNaN\u003c/td\u003e\n    \u003c/tr\u003e\n    \u003ctr\u003e\n      \u003cth\u003e8\u003c/th\u003e\n      \u003ctd\u003e3273056\u003c/td\u003e\n      \u003ctd\u003e4833\u003c/td\u003e\n      \u003ctd\u003e7802.0\u003c/td\u003e\n      \u003ctd\u003e200:20\u003c/td\u003e\n      \u003ctd\u003e10.0\u003c/td\u003e\n      \u003ctd\u003e20160130.0\u003c/td\u003e\n      \u003ctd\u003eNaN\u003c/td\u003e\n    \u003c/tr\u003e\n    \u003ctr\u003e\n      \u003cth\u003e9\u003c/th\u003e\n      \u003ctd\u003e94107\u003c/td\u003e\n      \u003ctd\u003e3381\u003c/td\u003e\n      \u003ctd\u003e7610.0\u003c/td\u003e\n      \u003ctd\u003e200:20\u003c/td\u003e\n      \u003ctd\u003e2.0\u003c/td\u003e\n      \u003ctd\u003e20160412.0\u003c/td\u003e\n      \u003ctd\u003eNaN\u003c/td\u003e\n    \u003c/tr\u003e\n    \u003ctr\u003e\n      \u003cth\u003e10\u003c/th\u003e\n      \u003ctd\u003e253750\u003c/td\u003e\n      \u003ctd\u003e8390\u003c/td\u003e\n      \u003ctd\u003eNaN\u003c/td\u003e\n      \u003ctd\u003eNaN\u003c/td\u003e\n      \u003ctd\u003e0.0\u003c/td\u003e\n      \u003ctd\u003eNaN\u003c/td\u003e\n      \u003ctd\u003e20160327.0\u003c/td\u003e\n    \u003c/tr\u003e\n    \u003ctr\u003e\n      \u003cth\u003e11\u003c/th\u003e\n      \u003ctd\u003e253750\u003c/td\u003e\n      \u003ctd\u003e8390\u003c/td\u003e\n      \u003ctd\u003e7531.0\u003c/td\u003e\n      \u003ctd\u003e20:5\u003c/td\u003e\n      \u003ctd\u003e0.0\u003c/td\u003e\n      \u003ctd\u003e20160327.0\u003c/td\u003e\n      \u003ctd\u003eNaN\u003c/td\u003e\n    \u003c/tr\u003e\n    \u003ctr\u003e\n      \u003cth\u003e12\u003c/th\u003e\n      \u003ctd\u003e376492\u003c/td\u003e\n      \u003ctd\u003e1041\u003c/td\u003e\n      \u003ctd\u003e13490.0\u003c/td\u003e\n      \u003ctd\u003e30:5\u003c/td\u003e\n      \u003ctd\u003e2.0\u003c/td\u003e\n      \u003ctd\u003e20160127.0\u003c/td\u003e\n      \u003ctd\u003eNaN\u003c/td\u003e\n    \u003c/tr\u003e\n    \u003ctr\u003e\n      \u003cth\u003e13\u003c/th\u003e\n      \u003ctd\u003e1964720\u003c/td\u003e\n      \u003ctd\u003e7884\u003c/td\u003e\n      \u003ctd\u003eNaN\u003c/td\u003e\n      \u003ctd\u003eNaN\u003c/td\u003e\n      \u003ctd\u003e10.0\u003c/td\u003e\n      \u003ctd\u003eNaN\u003c/td\u003e\n      \u003ctd\u003e20160115.0\u003c/td\u003e\n    \u003c/tr\u003e\n    \u003ctr\u003e\n      \u003cth\u003e14\u003c/th\u003e\n      \u003ctd\u003e1964720\u003c/td\u003e\n      \u003ctd\u003e7884\u003c/td\u003e\n      \u003ctd\u003e6704.0\u003c/td\u003e\n      \u003ctd\u003e20:1\u003c/td\u003e\n      \u003ctd\u003e10.0\u003c/td\u003e\n      \u003ctd\u003e20160215.0\u003c/td\u003e\n      \u003ctd\u003eNaN\u003c/td\u003e\n    \u003c/tr\u003e\n    \u003ctr\u003e\n      \u003cth\u003e15\u003c/th\u003e\n      \u003ctd\u003e1113008\u003c/td\u003e\n      \u003ctd\u003e1041\u003c/td\u003e\n      \u003ctd\u003eNaN\u003c/td\u003e\n      \u003ctd\u003eNaN\u003c/td\u003e\n      \u003ctd\u003e2.0\u003c/td\u003e\n      \u003ctd\u003eNaN\u003c/td\u003e\n      \u003ctd\u003e20160114.0\u003c/td\u003e\n    \u003c/tr\u003e\n    \u003ctr\u003e\n      \u003cth\u003e16\u003c/th\u003e\n      \u003ctd\u003e1113008\u003c/td\u003e\n      \u003ctd\u003e1041\u003c/td\u003e\n      \u003ctd\u003e11197.0\u003c/td\u003e\n      \u003ctd\u003e30:5\u003c/td\u003e\n      \u003ctd\u003e2.0\u003c/td\u003e\n      \u003ctd\u003e20160114.0\u003c/td\u003e\n      \u003ctd\u003eNaN\u003c/td\u003e\n    \u003c/tr\u003e\n    \u003ctr\u003e\n      \u003cth\u003e17\u003c/th\u003e\n      \u003ctd\u003e2881376\u003c/td\u003e\n      \u003ctd\u003e5341\u003c/td\u003e\n      \u003ctd\u003e111.0\u003c/td\u003e\n      \u003ctd\u003e30:5\u003c/td\u003e\n      \u003ctd\u003e1.0\u003c/td\u003e\n      \u003ctd\u003e20160207.0\u003c/td\u003e\n      \u003ctd\u003eNaN\u003c/td\u003e\n    \u003c/tr\u003e\n    \u003ctr\u003e\n      \u003cth\u003e18\u003c/th\u003e\n      \u003ctd\u003e2881376\u003c/td\u003e\n      \u003ctd\u003e8390\u003c/td\u003e\n      \u003ctd\u003e7531.0\u003c/td\u003e\n      \u003ctd\u003e20:5\u003c/td\u003e\n      \u003ctd\u003e0.0\u003c/td\u003e\n      \u003ctd\u003e20160321.0\u003c/td\u003e\n      \u003ctd\u003e20160329.0\u003c/td\u003e\n    \u003c/tr\u003e\n    \u003ctr\u003e\n      \u003cth\u003e19\u003c/th\u003e\n      \u003ctd\u003e2881376\u003c/td\u003e\n      \u003ctd\u003e5341\u003c/td\u003e\n      \u003ctd\u003e111.0\u003c/td\u003e\n      \u003ctd\u003e30:5\u003c/td\u003e\n      \u003ctd\u003e1.0\u003c/td\u003e\n      \u003ctd\u003e20160207.0\u003c/td\u003e\n      \u003ctd\u003eNaN\u003c/td\u003e\n    \u003c/tr\u003e\n  \u003c/tbody\u003e\n\u003c/table\u003e\n\u003c/div\u003e"
          },
          "metadata": {},
          "output_type": "execute_result",
          "execution_count": 35
        }
      ],
      "source": "dfoff \u003d pd.read_csv(os.path.join(DATA_ROOT,\u0027train_offline.csv\u0027))\ndftest \u003d pd.read_csv(os.path.join(DATA_ROOT,\u0027test_offline.csv\u0027))\ndftest \u003d dftest[~dftest.Coupon_id.isna()]\ndftest.reset_index(drop\u003dTrue, inplace\u003dTrue)\nprint(dfoff.shape)\nprint(dftest.shape)\ndfoff.head(20)\n",
      "metadata": {
        "pycharm": {
          "metadata": false,
          "name": "#%%\n",
          "is_executing": false
        }
      }
    },
    {
      "cell_type": "code",
      "execution_count": 36,
      "outputs": [
        {
          "data": {
            "text/plain": " 0    710665\n-1    413773\n 1     36304\nName: label, dtype: int64"
          },
          "metadata": {},
          "output_type": "execute_result",
          "execution_count": 36
        }
      ],
      "source": "## Creat target label \n\"\"\"\nAccording to the definition, \n1) buy with coupon within (include) 15 days \u003d\u003d\u003e 1\n2) buy with coupon but out of 15 days \u003d\u003d\u003e 0\n3) buy without coupon \u003d\u003d\u003e -1 (we don\u0027t care)\n\"\"\"\ndef label(row):\n    if np.isnan(row[\u0027Date_received\u0027]):\n        return -1\n    if not np.isnan(row[\u0027Date\u0027]):\n        td \u003d pd.to_datetime(row[\u0027Date\u0027], format\u003d\u0027%Y%m%d\u0027) -  pd.to_datetime(row[\u0027Date_received\u0027], format\u003d\u0027%Y%m%d\u0027)\n        if td \u003c\u003d pd.Timedelta(15, \u0027D\u0027):\n            return 1\n    return 0\n\ndfoff[\"label\"] \u003d dfoff.apply(label, axis\u003d1)\ndfoff[\"label\"].value_counts()\n\n",
      "metadata": {
        "pycharm": {
          "metadata": false,
          "name": "#%%\n",
          "is_executing": false
        }
      }
    },
    {
      "cell_type": "code",
      "execution_count": 37,
      "outputs": [],
      "source": "# Generate features - weekday acquired coupon\ndef getWeekday(row):\n    if (np.isnan(row)) or (row\u003d\u003d-1):\n        return row\n    else:\n        return pd.to_datetime(row, format \u003d \"%Y%m%d\").dayofweek+1 # add one to make it from 0~6 -\u003e 1~7\n\ndfoff[\u0027weekday\u0027] \u003d dfoff[\u0027Date_received\u0027].apply(getWeekday)\ndftest[\u0027weekday\u0027] \u003d dftest[\u0027Date_received\u0027].apply(getWeekday)\n\n# weekday_type (weekend \u003d 1)\ndfoff[\u0027weekday_type\u0027] \u003d dfoff[\u0027weekday\u0027].astype(\u0027str\u0027).apply(lambda x : 1 if x in [6,7] else 0 ) # apply to trainset\ndftest[\u0027weekday_type\u0027] \u003d dftest[\u0027weekday\u0027].astype(\u0027str\u0027).apply(lambda x : 1 if x in [6,7] else 0 ) # apply to testset\n",
      "metadata": {
        "pycharm": {
          "metadata": false,
          "name": "#%%\n",
          "is_executing": false
        }
      }
    },
    {
      "cell_type": "code",
      "execution_count": 38,
      "outputs": [
        {
          "name": "stdout",
          "text": [
            "[\u0027weekday_1\u0027, \u0027weekday_2\u0027, \u0027weekday_3\u0027, \u0027weekday_4\u0027, \u0027weekday_5\u0027, \u0027weekday_6\u0027, \u0027weekday_7\u0027]\n"
          ],
          "output_type": "stream"
        }
      ],
      "source": "weekdaycols \u003d [\u0027weekday_\u0027 + str(i) for i in range(1,8)]\nprint(weekdaycols)\n\ntmpdf \u003d pd.get_dummies(dfoff[\u0027weekday\u0027].replace(-1, np.nan))\ntmpdf.columns \u003d weekdaycols\ndfoff[weekdaycols] \u003d tmpdf\n\ntmpdf \u003d pd.get_dummies(dftest[\u0027weekday\u0027].replace(-1, np.nan))\ntmpdf.columns \u003d weekdaycols\ndftest[weekdaycols] \u003d tmpdf\n",
      "metadata": {
        "pycharm": {
          "metadata": false,
          "name": "#%%\n",
          "is_executing": false
        }
      }
    },
    {
      "cell_type": "code",
      "execution_count": 39,
      "outputs": [],
      "source": "# Generate features - coupon discount and distance\ndef getDiscountType(row):\n    if row \u003d\u003d \u0027null\u0027:\n        return \u0027null\u0027\n    elif \u0027:\u0027 in row:\n        return 1\n    else:\n        return 0\n\ndef convertRate(row):\n    \"\"\"Convert discount to rate\"\"\"\n    if row \u003d\u003d \u0027null\u0027:\n        return 1.0\n    elif \u0027:\u0027 in row:\n        rows \u003d row.split(\u0027:\u0027)\n        return 1.0 - float(rows[1])/float(rows[0])\n    else:\n        return float(row)\n    \ndef getDiscountMan(row):\n    if \u0027:\u0027 in row:\n        rows \u003d row.split(\u0027:\u0027)\n        return int(rows[0])\n    else:\n        return 0\n\ndef getDiscountJian(row):\n    if \u0027:\u0027 in row:\n        rows \u003d row.split(\u0027:\u0027)\n        return int(rows[1])\n    else:\n        return 0\n    \ndef processData(df):\n\n    # convert discunt_rate\n    df[\u0027discount_rate\u0027] \u003d df[\u0027Discount_rate\u0027].astype(\u0027str\u0027).apply(convertRate)\n    df[\u0027discount_man\u0027] \u003d df[\u0027Discount_rate\u0027].astype(\u0027str\u0027).apply(getDiscountMan)\n    df[\u0027discount_jian\u0027] \u003d df[\u0027Discount_rate\u0027].astype(\u0027str\u0027).apply(getDiscountJian)\n    df[\u0027discount_type\u0027] \u003d df[\u0027Discount_rate\u0027].astype(\u0027str\u0027).apply(getDiscountType)\n    \n    # convert distance\n    df.loc[df.Distance.isna(), \"Distance\"] \u003d 99\n    return df\n\ndfoff \u003d processData(dfoff)\ndftest \u003d processData(dftest)\n",
      "metadata": {
        "pycharm": {
          "metadata": false,
          "name": "#%%\n",
          "is_executing": false
        }
      }
    },
    {
      "cell_type": "code",
      "execution_count": 40,
      "outputs": [
        {
          "name": "stdout",
          "text": [
            "Train size: 667753, #positive: 32472\nValid size: 79216, #positive: 3832\n"
          ],
          "output_type": "stream"
        }
      ],
      "source": "## Naive model\ndef split_train_valid(row, date_cut\u003d\"20160416\"):\n    is_train \u003d True if pd.to_datetime(row, format\u003d\"%Y%m%d\") \u003c pd.to_datetime(date_cut, format\u003d\"%Y%m%d\") else False\n    return is_train\n    \ndf \u003d dfoff[dfoff[\u0027label\u0027] !\u003d -1].copy()\ndf[\"is_train\"] \u003d df[\"Date_received\"].apply(split_train_valid)\ntrain \u003d df[df[\"is_train\"]]\nvalid \u003d df[~df[\"is_train\"]]\ntrain.reset_index(drop\u003dTrue, inplace\u003dTrue)\nvalid.reset_index(drop\u003dTrue, inplace\u003dTrue)\nprint(\"Train size: {}, #positive: {}\".format(len(train), train[\"label\"].sum()))\nprint(\"Valid size: {}, #positive: {}\".format(len(valid), valid[\"label\"].sum()))\n",
      "metadata": {
        "pycharm": {
          "metadata": false,
          "name": "#%%\n",
          "is_executing": false
        }
      }
    },
    {
      "cell_type": "code",
      "execution_count": 41,
      "outputs": [
        {
          "name": "stdout",
          "text": [
            "14 [\u0027discount_rate\u0027, \u0027discount_type\u0027, \u0027discount_man\u0027, \u0027discount_jian\u0027, \u0027Distance\u0027, \u0027weekday\u0027, \u0027weekday_type\u0027, \u0027weekday_1\u0027, \u0027weekday_2\u0027, \u0027weekday_3\u0027, \u0027weekday_4\u0027, \u0027weekday_5\u0027, \u0027weekday_6\u0027, \u0027weekday_7\u0027]\n"
          ],
          "output_type": "stream"
        }
      ],
      "source": "original_feature \u003d [\u0027discount_rate\u0027,\n                    \u0027discount_type\u0027,\n                    \u0027discount_man\u0027, \n                    \u0027discount_jian\u0027,\n                    \u0027Distance\u0027, \n                    \u0027weekday\u0027, \n                    \u0027weekday_type\u0027] + weekdaycols\nprint(len(original_feature),original_feature)\n\n\n",
      "metadata": {
        "pycharm": {
          "metadata": false,
          "name": "#%%\n",
          "is_executing": false
        }
      }
    },
    {
      "cell_type": "code",
      "execution_count": 42,
      "outputs": [
        {
          "name": "stdout",
          "text": [
            "[\u0027discount_rate\u0027, \u0027discount_type\u0027, \u0027discount_man\u0027, \u0027discount_jian\u0027, \u0027Distance\u0027, \u0027weekday\u0027, \u0027weekday_type\u0027, \u0027weekday_1\u0027, \u0027weekday_2\u0027, \u0027weekday_3\u0027, \u0027weekday_4\u0027, \u0027weekday_5\u0027, \u0027weekday_6\u0027, \u0027weekday_7\u0027]\n"
          ],
          "output_type": "stream"
        }
      ],
      "source": "predictors \u003d original_feature\nprint(predictors)\n\ndef check_model(data, predictors):\n    \n    classifier \u003d lambda: SGDClassifier(\n        loss\u003d\u0027log\u0027, \n        penalty\u003d\u0027elasticnet\u0027, \n        fit_intercept\u003dTrue, \n        max_iter\u003d100, \n        shuffle\u003dTrue, \n        n_jobs\u003d1,\n        class_weight\u003dNone)\n\n    model \u003d Pipeline(steps\u003d[\n        (\u0027ss\u0027, StandardScaler()),\n        (\u0027en\u0027, classifier())\n    ])\n\n    parameters \u003d {\n        \u0027en__alpha\u0027: [ 0.001, 0.01, 0.1],\n        \u0027en__l1_ratio\u0027: [ 0.001, 0.01, 0.1]\n    }\n    \n    folder \u003d StratifiedKFold(n_splits\u003d3, shuffle\u003dTrue)\n    \n    grid_search \u003d GridSearchCV(\n        model, \n        parameters, \n        cv\u003dfolder, \n        n_jobs\u003d-1, \n        verbose\u003d1)\n    grid_search \u003d grid_search.fit(data[predictors], \n                                  data[\u0027label\u0027])\n    \n    return grid_search\n\n",
      "metadata": {
        "pycharm": {
          "metadata": false,
          "name": "#%%\n",
          "is_executing": false
        }
      }
    },
    {
      "cell_type": "code",
      "execution_count": 43,
      "outputs": [
        {
          "name": "stdout",
          "text": [
            "Fitting 3 folds for each of 9 candidates, totalling 27 fits\n"
          ],
          "output_type": "stream"
        },
        {
          "name": "stderr",
          "text": [
            "[Parallel(n_jobs\u003d-1)]: Using backend LokyBackend with 4 concurrent workers.\n",
            "[Parallel(n_jobs\u003d-1)]: Done  27 out of  27 | elapsed:   20.3s finished\n"
          ],
          "output_type": "stream"
        }
      ],
      "source": "model \u003d check_model(train, predictors)\n",
      "metadata": {
        "pycharm": {
          "metadata": false,
          "name": "#%%\n",
          "is_executing": false
        }
      }
    },
    {
      "cell_type": "code",
      "execution_count": 44,
      "outputs": [],
      "source": "y_valid_pred \u003d model.predict_proba(valid[predictors])\nvalid1 \u003d valid.copy()\nvalid1[\u0027pred_prob\u0027] \u003d y_valid_pred[:, 1]\n\n",
      "metadata": {
        "pycharm": {
          "metadata": false,
          "name": "#%%\n",
          "is_executing": false
        }
      }
    },
    {
      "cell_type": "code",
      "execution_count": 45,
      "outputs": [
        {
          "name": "stdout",
          "text": [
            "Validation AUC: 0.743, Accuracy: 0.952\n"
          ],
          "output_type": "stream"
        }
      ],
      "source": "from sklearn.metrics import roc_auc_score, accuracy_score\nauc_score \u003d roc_auc_score(y_true\u003dvalid.label, y_score\u003dy_valid_pred[:,1])\nacc \u003d accuracy_score(y_true\u003dvalid.label, y_pred\u003dy_valid_pred.argmax(axis\u003d1))\nprint(\"Validation AUC: {:.3f}, Accuracy: {:.3f}\".format(auc_score, acc))\n\n",
      "metadata": {
        "pycharm": {
          "metadata": false,
          "name": "#%%\n",
          "is_executing": false
        }
      }
    },
    {
      "cell_type": "code",
      "execution_count": 46,
      "outputs": [
        {
          "name": "stdout",
          "text": [
            "(306313, 19)\n",
            "(306313, 15)\n"
          ],
          "output_type": "stream"
        }
      ],
      "source": "targetset \u003d dftest.copy()\nprint(targetset.shape)\ntargetset \u003d targetset[~targetset.Coupon_id.isna()]\ntargetset.reset_index(drop\u003dTrue, inplace\u003dTrue)\ntestset \u003d targetset[predictors].copy()\n\ny_test_pred \u003d model.predict_proba(testset[predictors])\ntest1 \u003d testset.copy()\ntest1[\u0027pred_prob\u0027] \u003d y_test_pred[:, 1]\nprint(test1.shape)\n\n",
      "metadata": {
        "pycharm": {
          "metadata": false,
          "name": "#%%\n",
          "is_executing": false
        }
      }
    },
    {
      "cell_type": "code",
      "execution_count": 47,
      "outputs": [
        {
          "name": "stdout",
          "text": [
            "(306313, 4)\n"
          ],
          "output_type": "stream"
        }
      ],
      "source": "output \u003d pd.concat((targetset[[\"User_id\", \"Coupon_id\", \"Date_received\"]], test1[\"pred_prob\"]), axis\u003d1)\nprint(output.shape)\n\noutput.loc[:, \"User_id\"] \u003d output[\"User_id\"].apply(lambda x:str(int(x)))\noutput.loc[:, \"Coupon_id\"] \u003d output[\"Coupon_id\"].apply(lambda x:str(int(x)))\noutput.loc[:, \"Date_received\"] \u003d output[\"Date_received\"].apply(lambda x:str(int(x)))\noutput[\"uid\"] \u003d output[[\"User_id\", \"Coupon_id\", \"Date_received\"]].apply(lambda x: \u0027_\u0027.join(x.values), axis\u003d1)\noutput.reset_index(drop\u003dTrue, inplace\u003dTrue)\n\n",
      "metadata": {
        "pycharm": {
          "metadata": false,
          "name": "#%%\n",
          "is_executing": false
        }
      }
    },
    {
      "cell_type": "code",
      "execution_count": 48,
      "outputs": [
        {
          "data": {
            "text/plain": "                     uid     label\n0  1000020_2705_20160519  0.113423\n1  1000020_8192_20160513  0.088090\n2  1000065_1455_20160527  0.068544\n3  1000085_8067_20160513  0.070708\n4  1000086_2418_20160613  0.063083",
            "text/html": "\u003cdiv\u003e\n\u003cstyle scoped\u003e\n    .dataframe tbody tr th:only-of-type {\n        vertical-align: middle;\n    }\n\n    .dataframe tbody tr th {\n        vertical-align: top;\n    }\n\n    .dataframe thead th {\n        text-align: right;\n    }\n\u003c/style\u003e\n\u003ctable border\u003d\"1\" class\u003d\"dataframe\"\u003e\n  \u003cthead\u003e\n    \u003ctr style\u003d\"text-align: right;\"\u003e\n      \u003cth\u003e\u003c/th\u003e\n      \u003cth\u003euid\u003c/th\u003e\n      \u003cth\u003elabel\u003c/th\u003e\n    \u003c/tr\u003e\n  \u003c/thead\u003e\n  \u003ctbody\u003e\n    \u003ctr\u003e\n      \u003cth\u003e0\u003c/th\u003e\n      \u003ctd\u003e1000020_2705_20160519\u003c/td\u003e\n      \u003ctd\u003e0.113423\u003c/td\u003e\n    \u003c/tr\u003e\n    \u003ctr\u003e\n      \u003cth\u003e1\u003c/th\u003e\n      \u003ctd\u003e1000020_8192_20160513\u003c/td\u003e\n      \u003ctd\u003e0.088090\u003c/td\u003e\n    \u003c/tr\u003e\n    \u003ctr\u003e\n      \u003cth\u003e2\u003c/th\u003e\n      \u003ctd\u003e1000065_1455_20160527\u003c/td\u003e\n      \u003ctd\u003e0.068544\u003c/td\u003e\n    \u003c/tr\u003e\n    \u003ctr\u003e\n      \u003cth\u003e3\u003c/th\u003e\n      \u003ctd\u003e1000085_8067_20160513\u003c/td\u003e\n      \u003ctd\u003e0.070708\u003c/td\u003e\n    \u003c/tr\u003e\n    \u003ctr\u003e\n      \u003cth\u003e4\u003c/th\u003e\n      \u003ctd\u003e1000086_2418_20160613\u003c/td\u003e\n      \u003ctd\u003e0.063083\u003c/td\u003e\n    \u003c/tr\u003e\n  \u003c/tbody\u003e\n\u003c/table\u003e\n\u003c/div\u003e"
          },
          "metadata": {},
          "output_type": "execute_result",
          "execution_count": 48
        }
      ],
      "source": "out \u003d output.groupby(\"uid\", as_index\u003dFalse).mean()\nout \u003d out[[\"uid\", \"pred_prob\"]]\nout.columns \u003d [\"uid\", \"label\"]\n# out.to_csv(\"baseline_example.csv\", header\u003d[\"uid\", \"label\"], index\u003dFalse) # submission format\nout.head()\n\n",
      "metadata": {
        "pycharm": {
          "metadata": false,
          "name": "#%%\n",
          "is_executing": false
        }
      }
    },
    {
      "cell_type": "code",
      "execution_count": null,
      "outputs": [],
      "source": "\n",
      "metadata": {
        "pycharm": {
          "metadata": false,
          "name": "#%%\n"
        }
      }
    }
  ],
  "metadata": {
    "language_info": {
      "codemirror_mode": {
        "name": "ipython",
        "version": 2
      },
      "file_extension": ".py",
      "mimetype": "text/x-python",
      "name": "python",
      "nbconvert_exporter": "python",
      "pygments_lexer": "ipython2",
      "version": "2.7.6"
    },
    "kernelspec": {
      "name": "python3",
      "language": "python",
      "display_name": "Python 3"
    },
    "stem_cell": {
      "cell_type": "raw",
      "source": "",
      "metadata": {
        "pycharm": {
          "metadata": false
        }
      }
    }
  },
  "nbformat": 4,
  "nbformat_minor": 0
}